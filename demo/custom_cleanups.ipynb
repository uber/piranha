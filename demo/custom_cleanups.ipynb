{
 "cells": [
  {
   "attachments": {},
   "cell_type": "markdown",
   "metadata": {},
   "source": [
    "### Custom Cleanups \n",
    "\n",
    "This is a guide for developing automation for ***custom code cleanups***.\n",
    "\n",
    "Languages supported : Java, Kotlin, Go, Python, Swift, and TypeScript\n",
    "\n",
    "ℹ️ **_NOTE:_** This tutorial is in Python for pedagogical purposes. \n",
    "Piranha can be used with the CLI or using the Rust API. \n",
    "We would encourage following this tutorial even if you do not intend to use the Python API.\n",
    "\n",
    "✅ **Prerequisite**: [Stale FF cleanup tutorial](./stale_feature_flag_cleanup_tutorial.ipynb)"
   ]
  },
  {
   "cell_type": "code",
   "execution_count": null,
   "metadata": {},
   "outputs": [],
   "source": []
  },
  {
   "cell_type": "markdown",
   "metadata": {},
   "source": []
  }
 ],
 "metadata": {
  "kernelspec": {
   "display_name": ".env",
   "language": "python",
   "name": "python3"
  },
  "language_info": {
   "name": "python",
   "version": "3.10.9"
  },
  "orig_nbformat": 4,
  "vscode": {
   "interpreter": {
    "hash": "8940432f2365cfc2130f5c62b266313bc73e38258967dc33b60edac5998749e5"
   }
  }
 },
 "nbformat": 4,
 "nbformat_minor": 2
}
